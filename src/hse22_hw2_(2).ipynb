{
  "nbformat": 4,
  "nbformat_minor": 0,
  "metadata": {
    "colab": {
      "provenance": []
    },
    "kernelspec": {
      "name": "python3",
      "display_name": "Python 3"
    },
    "language_info": {
      "name": "python"
    }
  },
  "cells": [
    {
      "cell_type": "code",
      "execution_count": 3,
      "metadata": {
        "colab": {
          "base_uri": "https://localhost:8080/"
        },
        "id": "Q-TK_tV7SUFY",
        "outputId": "e6b42c65-5917-47fa-bd3a-b19ef8f3d25b"
      },
      "outputs": [
        {
          "output_type": "stream",
          "name": "stdout",
          "text": [
            "--2022-10-19 19:16:10--  https://raw.githubusercontent.com/sonishko/hse22_hw2/main/data/gms2.lst\n",
            "Resolving raw.githubusercontent.com (raw.githubusercontent.com)... 185.199.109.133, 185.199.110.133, 185.199.108.133, ...\n",
            "Connecting to raw.githubusercontent.com (raw.githubusercontent.com)|185.199.109.133|:443... connected.\n",
            "HTTP request sent, awaiting response... 200 OK\n",
            "Length: 219943 (215K) [text/plain]\n",
            "Saving to: ‘gms2.lst’\n",
            "\n",
            "gms2.lst            100%[===================>] 214.79K  --.-KB/s    in 0.009s  \n",
            "\n",
            "2022-10-19 19:16:11 (23.9 MB/s) - ‘gms2.lst’ saved [219943/219943]\n",
            "\n"
          ]
        }
      ],
      "source": [
        "!wget https://raw.githubusercontent.com/sonishko/hse22_hw2/main/data/gms2.lst"
      ]
    },
    {
      "cell_type": "code",
      "source": [
        "!wget https://raw.githubusercontent.com/sonishko/hse22_hw2/main/data/scaffolds.fa"
      ],
      "metadata": {
        "colab": {
          "base_uri": "https://localhost:8080/"
        },
        "id": "nyVlBOXYSelk",
        "outputId": "d880a2e0-7666-4fca-da93-982afc0a77e4"
      },
      "execution_count": 4,
      "outputs": [
        {
          "output_type": "stream",
          "name": "stdout",
          "text": [
            "--2022-10-19 19:16:13--  https://raw.githubusercontent.com/sonishko/hse22_hw2/main/data/scaffolds.fa\n",
            "Resolving raw.githubusercontent.com (raw.githubusercontent.com)... 185.199.108.133, 185.199.109.133, 185.199.110.133, ...\n",
            "Connecting to raw.githubusercontent.com (raw.githubusercontent.com)|185.199.108.133|:443... connected.\n",
            "HTTP request sent, awaiting response... 200 OK\n",
            "Length: 3955483 (3.8M) [text/plain]\n",
            "Saving to: ‘scaffolds.fa’\n",
            "\n",
            "scaffolds.fa        100%[===================>]   3.77M  --.-KB/s    in 0.03s   \n",
            "\n",
            "2022-10-19 19:16:13 (126 MB/s) - ‘scaffolds.fa’ saved [3955483/3955483]\n",
            "\n"
          ]
        }
      ]
    },
    {
      "cell_type": "code",
      "source": [
        "!wget https://raw.githubusercontent.com/sonishko/hse22_hw2/main/data/proteins.fasta"
      ],
      "metadata": {
        "colab": {
          "base_uri": "https://localhost:8080/"
        },
        "id": "kUIHNpoWSfd3",
        "outputId": "57737695-3e0e-426e-e075-f5d56ab99427"
      },
      "execution_count": 5,
      "outputs": [
        {
          "output_type": "stream",
          "name": "stdout",
          "text": [
            "--2022-10-19 19:16:15--  https://raw.githubusercontent.com/sonishko/hse22_hw2/main/data/proteins.fasta\n",
            "Resolving raw.githubusercontent.com (raw.githubusercontent.com)... 185.199.108.133, 185.199.109.133, 185.199.110.133, ...\n",
            "Connecting to raw.githubusercontent.com (raw.githubusercontent.com)|185.199.108.133|:443... connected.\n",
            "HTTP request sent, awaiting response... 200 OK\n",
            "Length: 1401032 (1.3M) [text/plain]\n",
            "Saving to: ‘proteins.fasta’\n",
            "\n",
            "proteins.fasta      100%[===================>]   1.34M  --.-KB/s    in 0.06s   \n",
            "\n",
            "2022-10-19 19:16:15 (22.0 MB/s) - ‘proteins.fasta’ saved [1401032/1401032]\n",
            "\n"
          ]
        }
      ]
    },
    {
      "cell_type": "code",
      "source": [
        "!wget https://raw.githubusercontent.com/sonishko/hse22_hw2/main/data/scaffolds.hits_from_MIL_1.txt"
      ],
      "metadata": {
        "colab": {
          "base_uri": "https://localhost:8080/"
        },
        "id": "EGtTN3ahSiOc",
        "outputId": "276de3a9-582b-4fa5-840f-0606c2082bdc"
      },
      "execution_count": 6,
      "outputs": [
        {
          "output_type": "stream",
          "name": "stdout",
          "text": [
            "--2022-10-19 19:16:17--  https://raw.githubusercontent.com/sonishko/hse22_hw2/main/data/scaffolds.hits_from_MIL_1.txt\n",
            "Resolving raw.githubusercontent.com (raw.githubusercontent.com)... 185.199.110.133, 185.199.111.133, 185.199.108.133, ...\n",
            "Connecting to raw.githubusercontent.com (raw.githubusercontent.com)|185.199.110.133|:443... connected.\n",
            "HTTP request sent, awaiting response... 200 OK\n",
            "Length: 867036 (847K) [text/plain]\n",
            "Saving to: ‘scaffolds.hits_from_MIL_1.txt’\n",
            "\n",
            "\r          scaffolds   0%[                    ]       0  --.-KB/s               \rscaffolds.hits_from 100%[===================>] 846.71K  --.-KB/s    in 0.02s   \n",
            "\n",
            "2022-10-19 19:16:17 (52.8 MB/s) - ‘scaffolds.hits_from_MIL_1.txt’ saved [867036/867036]\n",
            "\n"
          ]
        }
      ]
    },
    {
      "cell_type": "code",
      "source": [
        "!wget https://raw.githubusercontent.com/sonishko/hse22_hw2/main/data/scaffolds.hits_from_SwissProt.txt"
      ],
      "metadata": {
        "colab": {
          "base_uri": "https://localhost:8080/"
        },
        "id": "opZ8YSwSSkni",
        "outputId": "f6824e20-8ddd-48e8-b1e3-20fd044fdec7"
      },
      "execution_count": 7,
      "outputs": [
        {
          "output_type": "stream",
          "name": "stdout",
          "text": [
            "--2022-10-19 19:16:19--  https://raw.githubusercontent.com/sonishko/hse22_hw2/main/data/scaffolds.hits_from_SwissProt.txt\n",
            "Resolving raw.githubusercontent.com (raw.githubusercontent.com)... 185.199.108.133, 185.199.109.133, 185.199.110.133, ...\n",
            "Connecting to raw.githubusercontent.com (raw.githubusercontent.com)|185.199.108.133|:443... connected.\n",
            "HTTP request sent, awaiting response... 200 OK\n",
            "Length: 65851 (64K) [text/plain]\n",
            "Saving to: ‘scaffolds.hits_from_SwissProt.txt’\n",
            "\n",
            "\r          scaffolds   0%[                    ]       0  --.-KB/s               \rscaffolds.hits_from 100%[===================>]  64.31K  --.-KB/s    in 0.004s  \n",
            "\n",
            "2022-10-19 19:16:19 (17.8 MB/s) - ‘scaffolds.hits_from_SwissProt.txt’ saved [65851/65851]\n",
            "\n"
          ]
        }
      ]
    },
    {
      "cell_type": "markdown",
      "source": [
        "## Скачиваем геном близкородственной бактерии T.oleivorans\n",
        "Геном, последовательности генов (нт) и белков (протеом) для бактерии Thalassolituus oleivorans MIL-1\n",
        "https://www.ncbi.nlm.nih.gov/nuccore/HF680312"
      ],
      "metadata": {
        "id": "dCzTSwyUS21M"
      }
    },
    {
      "cell_type": "code",
      "source": [
        "!sh -c \"$(curl -fsSL ftp://ftp.ncbi.nlm.nih.gov/entrez/entrezdirect/install-edirect.sh)\""
      ],
      "metadata": {
        "colab": {
          "base_uri": "https://localhost:8080/"
        },
        "id": "JxaZSc67S8RP",
        "outputId": "c636382b-1f3a-4388-a7c1-4693abbb271d"
      },
      "execution_count": 8,
      "outputs": [
        {
          "output_type": "stream",
          "name": "stdout",
          "text": [
            "\n",
            "Entrez Direct has been successfully downloaded and installed.\n",
            "\n",
            "In order to complete the configuration process, please execute the following:\n",
            "\n",
            "  echo \"export PATH=\\${PATH}:/root/edirect\" >> ${HOME}/.bashrc\n",
            "\n",
            "or manually edit the PATH variable assignment in your .bashrc file.\n",
            "\n",
            "Would you like to do that automatically now? [y/N]\n",
            "y\n",
            "OK, done.\n",
            "\n",
            "To activate EDirect for this terminal session, please execute the following:\n",
            "\n",
            "export PATH=${PATH}:${HOME}/edirect\n",
            "\n"
          ]
        }
      ]
    },
    {
      "cell_type": "code",
      "source": [
        "!$HOME/edirect/efetch -db nuccore -id HF680312 -format gb  >  T_oleivorans_MIL_1.gbk"
      ],
      "metadata": {
        "id": "O0dlaO_TTKRx"
      },
      "execution_count": 9,
      "outputs": []
    },
    {
      "cell_type": "code",
      "source": [
        "!pip install biopython"
      ],
      "metadata": {
        "colab": {
          "base_uri": "https://localhost:8080/"
        },
        "id": "HC_bxXhrTO2B",
        "outputId": "7f967db4-3344-47e4-8778-217ed011cae3"
      },
      "execution_count": 10,
      "outputs": [
        {
          "output_type": "stream",
          "name": "stdout",
          "text": [
            "Looking in indexes: https://pypi.org/simple, https://us-python.pkg.dev/colab-wheels/public/simple/\n",
            "Requirement already satisfied: biopython in /usr/local/lib/python3.7/dist-packages (1.79)\n",
            "Requirement already satisfied: numpy in /usr/local/lib/python3.7/dist-packages (from biopython) (1.21.6)\n"
          ]
        }
      ]
    },
    {
      "cell_type": "markdown",
      "source": [
        "## Аннотация генома "
      ],
      "metadata": {
        "id": "ov8w_b3fTVjv"
      }
    },
    {
      "cell_type": "code",
      "source": [
        "from Bio import SeqIO, SearchIO\n",
        "from Bio.SeqFeature import SeqFeature, FeatureLocation\n",
        "import pandas as pd\n",
        "\n",
        "seqs = list(SeqIO.parse(\"scaffolds.fa\", \"fasta\"))\n",
        "prots = list(SeqIO.parse(\"proteins.fasta\", \"fasta\"))\n"
      ],
      "metadata": {
        "id": "24g1_zTDTZyy"
      },
      "execution_count": 11,
      "outputs": []
    },
    {
      "cell_type": "markdown",
      "source": [
        "Найдем кол-во скаффолдов"
      ],
      "metadata": {
        "id": "0fboBQlxWvb3"
      }
    },
    {
      "cell_type": "code",
      "source": [
        "len(seqs)\n"
      ],
      "metadata": {
        "colab": {
          "base_uri": "https://localhost:8080/"
        },
        "id": "GO38tyTXWLfv",
        "outputId": "c75e5fdf-9d73-4dcb-e840-9c059302a8c0"
      },
      "execution_count": 12,
      "outputs": [
        {
          "output_type": "execute_result",
          "data": {
            "text/plain": [
              "68"
            ]
          },
          "metadata": {},
          "execution_count": 12
        }
      ]
    },
    {
      "cell_type": "markdown",
      "source": [
        "Найдем длину максимального скаффолда"
      ],
      "metadata": {
        "id": "jjSUIQeiWxgk"
      }
    },
    {
      "cell_type": "code",
      "source": [
        "max_len = 0 \n",
        "for seq in seqs:\n",
        "  if len(seq) > max_len:\n",
        "    max_len = len(seq)\n",
        "max_len"
      ],
      "metadata": {
        "colab": {
          "base_uri": "https://localhost:8080/"
        },
        "id": "IgV4rOf5Wx4x",
        "outputId": "774bb3b9-16a6-45c2-cc72-0cff9211c937"
      },
      "execution_count": 13,
      "outputs": [
        {
          "output_type": "execute_result",
          "data": {
            "text/plain": [
              "3867647"
            ]
          },
          "metadata": {},
          "execution_count": 13
        }
      ]
    },
    {
      "cell_type": "markdown",
      "source": [
        "Найдем общее кол-во генов"
      ],
      "metadata": {
        "id": "_Sg898jNWwVq"
      }
    },
    {
      "cell_type": "code",
      "source": [
        "len(prots)"
      ],
      "metadata": {
        "colab": {
          "base_uri": "https://localhost:8080/"
        },
        "id": "iKBGvSkLWOjz",
        "outputId": "73f0051e-0e45-4ff6-db7f-f8c2d2269d26"
      },
      "execution_count": 14,
      "outputs": [
        {
          "output_type": "execute_result",
          "data": {
            "text/plain": [
              "3602"
            ]
          },
          "metadata": {},
          "execution_count": 14
        }
      ]
    },
    {
      "cell_type": "markdown",
      "source": [
        "Считываем скаффолды"
      ],
      "metadata": {
        "id": "feQz8IrCZkaJ"
      }
    },
    {
      "cell_type": "code",
      "source": [
        "scaffolds = {}\n",
        "for record in SeqIO.parse('scaffolds.fa', 'fasta'):\n",
        "  record.annotations['molecule_type'] = 'DNA'\n",
        "  record.annotations['organism'] = 'Thalassolituus oleivorans Barents'\n",
        "  record.annotations['data_file_division'] = 'BCT'\n",
        "  scaffolds[record.id] = record"
      ],
      "metadata": {
        "id": "84wSzr5OWwnd"
      },
      "execution_count": 15,
      "outputs": []
    },
    {
      "cell_type": "markdown",
      "source": [],
      "metadata": {
        "id": "j13TDALMW7nH"
      }
    },
    {
      "cell_type": "code",
      "source": [
        "genes = dict()\n",
        "for gene in SeqIO.parse(\"proteins.fasta\", \"fasta\"):\n",
        "  descr = gene.description.split(' ')\n",
        "  scaffold = descr[1]\n",
        "  start, end = int(descr[2]), int(descr[3])\n",
        "  \n",
        "  feature = SeqFeature(FeatureLocation(start, end), type=\"CDS\")\n",
        "  feature.qualifiers['locus_tag'] = [descr[0]]\n",
        "  feature.qualifiers['translation'] = [gene.seq]\n",
        "  scaffolds[scaffold].features.append(feature)\n",
        "  \n",
        "  genes[descr[0]] = feature"
      ],
      "metadata": {
        "id": "z7EDI3hhZmQ5"
      },
      "execution_count": 16,
      "outputs": []
    },
    {
      "cell_type": "markdown",
      "source": [
        "Добавляем функции белков (аннотацию) из MIL-1"
      ],
      "metadata": {
        "id": "yn8DPrnnUo53"
      }
    },
    {
      "cell_type": "code",
      "source": [
        "mil1 = dict()\n",
        "for item in SeqIO.read(\"T_oleivorans_MIL_1.gbk\", \"genbank\").features:\n",
        "  if 'protein_id' not in item.qualifiers:\n",
        "    continue\n",
        "  if 'product' not in item.qualifiers:\n",
        "    continue\n",
        "  \n",
        "  mil1[item.qualifiers['protein_id'][0]] = item.qualifiers['product'][0]"
      ],
      "metadata": {
        "id": "qWfcfiwWUpE0"
      },
      "execution_count": 17,
      "outputs": []
    },
    {
      "cell_type": "markdown",
      "source": [
        "Читаем scaffolds.hits_from_MIL1.txt"
      ],
      "metadata": {
        "id": "H5ehOtHYUq8F"
      }
    },
    {
      "cell_type": "code",
      "source": [
        "names = ['qseqid', 'sseqid', 'pident', 'length', 'mismatch', 'gapopen', 'qstart', 'qend', 'sstart', 'send', 'evalue', 'bitscore']\n",
        "mil1_hits = pd.read_csv('scaffolds.hits_from_MIL_1.txt', sep='\\t', header=None, names=names)\n"
      ],
      "metadata": {
        "id": "oSfDlux9Uxql"
      },
      "execution_count": 18,
      "outputs": []
    },
    {
      "cell_type": "markdown",
      "source": [
        "Выбираем лучшие совпадения для каждого гена"
      ],
      "metadata": {
        "id": "XuEUtQDtUx1w"
      }
    },
    {
      "cell_type": "code",
      "source": [
        "hit = mil1_hits[mil1_hits['sseqid'].str.contains(\"CCU\")].sort_values('bitscore', ascending=False).drop_duplicates('qseqid')\n",
        "\n",
        "for i, hit in hit.iterrows():\n",
        "  gene = genes[str(hit['qseqid'])]\n",
        "  match = hit['sseqid'].split('_')[2]\n",
        "  gene.qualifiers['product'] = [mil1[match]]"
      ],
      "metadata": {
        "id": "dL8VkwMnU5Wf"
      },
      "execution_count": 19,
      "outputs": []
    },
    {
      "cell_type": "markdown",
      "source": [
        "## Добавляем функции белков (из БД SwissProt)"
      ],
      "metadata": {
        "id": "3jhCotDmVVlq"
      }
    },
    {
      "cell_type": "code",
      "source": [
        "!head scaffolds.hits_from_SwissProt.txt"
      ],
      "metadata": {
        "colab": {
          "base_uri": "https://localhost:8080/"
        },
        "id": "fYDZYPfQXl6-",
        "outputId": "75641462-f73f-489a-e04e-8ed0c1c8ae69"
      },
      "execution_count": 20,
      "outputs": [
        {
          "output_type": "stream",
          "name": "stdout",
          "text": [
            "103\tsp|Q58577|Y1178_METJA\t30.055\t366\t192\t15\t1\t336\t4\t335\t2.97e-28\t115\n",
            "103\tsp|Q81ST7|BSHA_BACAN\t29.097\t299\t168\t10\t63\t335\t77\t357\t2.74e-22\t100\n",
            "103\tsp|P9WMZ3|PIMB_MYCTU\t28.689\t244\t148\t6\t113\t336\t130\t367\t3.03e-21\t97.1\n",
            "103\tsp|P9WMZ2|PIMB_MYCTO\t28.689\t244\t148\t6\t113\t336\t130\t367\t3.03e-21\t97.1\n",
            "103\tsp|O32272|TUAC_BACSU\t25.313\t399\t230\t11\t1\t348\t1\t382\t8.09e-21\t95.9\n",
            "103\tsp|Q59002|Y1607_METJA\t28.523\t298\t181\t10\t67\t340\t84\t373\t1.72e-18\t89.4\n",
            "103\tsp|Q8NTA6|MSHA_CORGL\t30.147\t272\t160\t13\t103\t352\t144\t407\t1.34e-17\t86.7\n",
            "103\tsp|A4QB40|MSHA_CORGB\t30.147\t272\t160\t13\t103\t352\t144\t407\t1.34e-17\t86.7\n",
            "103\tsp|A7TZT2|MFPS_AGRFC\t26.400\t250\t160\t6\t106\t336\t177\t421\t9.87e-17\t84.3\n",
            "103\tsp|Q8FSH1|MSHA_COREF\t29.588\t267\t156\t12\t106\t349\t147\t404\t3.79e-16\t82.4\n"
          ]
        }
      ]
    },
    {
      "cell_type": "code",
      "source": [
        "!wget https://ftp.uniprot.org/pub/databases/uniprot/current_release/knowledgebase/complete/uniprot_sprot.dat.gz"
      ],
      "metadata": {
        "colab": {
          "base_uri": "https://localhost:8080/"
        },
        "id": "CabYUMe8bBx4",
        "outputId": "8752e09f-41ae-40fe-fb6f-c43fa47422dc"
      },
      "execution_count": 21,
      "outputs": [
        {
          "output_type": "stream",
          "name": "stdout",
          "text": [
            "--2022-10-19 19:17:53--  https://ftp.uniprot.org/pub/databases/uniprot/current_release/knowledgebase/complete/uniprot_sprot.dat.gz\n",
            "Resolving ftp.uniprot.org (ftp.uniprot.org)... 128.175.240.195\n",
            "Connecting to ftp.uniprot.org (ftp.uniprot.org)|128.175.240.195|:443... connected.\n",
            "HTTP request sent, awaiting response... 200 OK\n",
            "Length: 642093634 (612M) [application/x-gzip]\n",
            "Saving to: ‘uniprot_sprot.dat.gz’\n",
            "\n",
            "uniprot_sprot.dat.g 100%[===================>] 612.35M  19.6MB/s    in 27s     \n",
            "\n",
            "2022-10-19 19:18:21 (22.7 MB/s) - ‘uniprot_sprot.dat.gz’ saved [642093634/642093634]\n",
            "\n"
          ]
        }
      ]
    },
    {
      "cell_type": "code",
      "source": [
        "!gzip -d uniprot_sprot.dat.gz"
      ],
      "metadata": {
        "id": "uPuGcG1sa7hy"
      },
      "execution_count": 22,
      "outputs": []
    },
    {
      "cell_type": "code",
      "source": [
        "!grep '^ID\\|^DE   RecName: Full=' uniprot_sprot.dat > SwissProt_names.txt"
      ],
      "metadata": {
        "id": "XDehmJjbbUy6"
      },
      "execution_count": 23,
      "outputs": []
    },
    {
      "cell_type": "code",
      "source": [
        "swprgenes = dict()\n",
        "for row in open('SwissProt_names.txt'):\n",
        "  if row.startswith('ID'):\n",
        "    previd = row.split()[1]\n",
        "  if row.startswith('DE'):\n",
        "    swprgenes[previd] = row.split('=')[1][:-2]"
      ],
      "metadata": {
        "id": "dOG7lyHvYNt_"
      },
      "execution_count": 24,
      "outputs": []
    },
    {
      "cell_type": "code",
      "source": [
        "swpr_hits_raw = pd.read_csv('scaffolds.hits_from_SwissProt.txt', sep='\\t', header=None, names=names)\n",
        "swpr_hits = swpr_hits_raw.sort_values('bitscore', ascending=False).drop_duplicates('qseqid')\n",
        "\n",
        "for i, hit in swpr_hits.iterrows():\n",
        "  gene = genes[str(hit['qseqid'])]\n",
        "  match = hit['sseqid'].split('|')[-1]\n",
        "  gene.qualifiers['product'] = [swprgenes[match]]"
      ],
      "metadata": {
        "id": "Bf1CJ5BVbiWp"
      },
      "execution_count": 25,
      "outputs": []
    },
    {
      "cell_type": "code",
      "source": [
        "SeqIO.write(scaffolds.values(), \"GENOME.gbk\", \"genbank\")"
      ],
      "metadata": {
        "colab": {
          "base_uri": "https://localhost:8080/"
        },
        "id": "HP9u7leiq_5L",
        "outputId": "dc685558-2a99-444c-ea75-8cfdf0b0a8b5"
      },
      "execution_count": 26,
      "outputs": [
        {
          "output_type": "execute_result",
          "data": {
            "text/plain": [
              "68"
            ]
          },
          "metadata": {},
          "execution_count": 26
        }
      ]
    },
    {
      "cell_type": "markdown",
      "source": [
        "Посмотрим на статистику"
      ],
      "metadata": {
        "id": "EAt_kVDfkI3P"
      }
    },
    {
      "cell_type": "code",
      "source": [
        "len(list(SearchIO.parse(\"scaffolds.hits_from_MIL_1.txt\", \"blast-tab\")))\n"
      ],
      "metadata": {
        "colab": {
          "base_uri": "https://localhost:8080/"
        },
        "id": "ltibKjSXkIMd",
        "outputId": "c1f4deb1-acc8-4b4e-aa09-37a5bd726877"
      },
      "execution_count": null,
      "outputs": [
        {
          "output_type": "execute_result",
          "data": {
            "text/plain": [
              "3324"
            ]
          },
          "metadata": {},
          "execution_count": 79
        }
      ]
    },
    {
      "cell_type": "code",
      "source": [
        "len(list(SearchIO.parse(\"scaffolds.hits_from_SwissProt.txt\", \"blast-tab\")))"
      ],
      "metadata": {
        "colab": {
          "base_uri": "https://localhost:8080/"
        },
        "id": "Y4LjiDXwkOOs",
        "outputId": "8d8f9576-7a88-4491-f8f0-33355ae5b15f"
      },
      "execution_count": null,
      "outputs": [
        {
          "output_type": "execute_result",
          "data": {
            "text/plain": [
              "53"
            ]
          },
          "metadata": {},
          "execution_count": 80
        }
      ]
    },
    {
      "cell_type": "code",
      "source": [
        "without_annotation = len(prots) - len(list(SearchIO.parse(\"scaffolds.hits_from_MIL_1.txt\", \"blast-tab\"))) - len(list(SearchIO.parse(\"scaffolds.hits_from_SwissProt.txt\", \"blast-tab\")))\n",
        "without_annotation"
      ],
      "metadata": {
        "colab": {
          "base_uri": "https://localhost:8080/"
        },
        "id": "ILCcAEkGkRRo",
        "outputId": "bf26211b-62a8-4258-e515-73e26a45fa1b"
      },
      "execution_count": null,
      "outputs": [
        {
          "output_type": "execute_result",
          "data": {
            "text/plain": [
              "225"
            ]
          },
          "metadata": {},
          "execution_count": 81
        }
      ]
    }
  ]
}